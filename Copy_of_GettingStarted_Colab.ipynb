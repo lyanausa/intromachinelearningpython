{
  "nbformat": 4,
  "nbformat_minor": 0,
  "metadata": {
    "colab": {
      "name": "Copy of GettingStarted_Colab.ipynb",
      "provenance": [],
      "collapsed_sections": [],
      "include_colab_link": true
    },
    "kernelspec": {
      "name": "python3",
      "display_name": "Python 3"
    }
  },
  "cells": [
    {
      "cell_type": "markdown",
      "metadata": {
        "id": "view-in-github",
        "colab_type": "text"
      },
      "source": [
        "<a href=\"https://colab.research.google.com/github/lyanausa/intromachinelearningpython/blob/main/Copy_of_GettingStarted_Colab.ipynb\" target=\"_parent\"><img src=\"https://colab.research.google.com/assets/colab-badge.svg\" alt=\"Open In Colab\"/></a>"
      ]
    },
    {
      "cell_type": "markdown",
      "metadata": {
        "id": "N53XL4X7sTRf"
      },
      "source": [
        "# Short Guide to Colab Notebooks"
      ]
    },
    {
      "cell_type": "markdown",
      "metadata": {
        "id": "rNZDAR_HoZFl"
      },
      "source": [
        "\n",
        "\n",
        "## Cell\n",
        "This is a text cell. Double-click (or enter) to edit. Bellow you can see an example code cell:"
      ]
    },
    {
      "cell_type": "code",
      "metadata": {
        "id": "mi7AAKpcGWQ1"
      },
      "source": [
        "print (\"Welcome!\")\n",
        "print ( 1+3 )"
      ],
      "execution_count": null,
      "outputs": []
    },
    {
      "cell_type": "code",
      "metadata": {
        "id": "Yq6bPUaN9Thn"
      },
      "source": [
        ""
      ],
      "execution_count": null,
      "outputs": []
    },
    {
      "cell_type": "markdown",
      "metadata": {
        "id": "jI8cuPHv9UI1"
      },
      "source": [
        ""
      ]
    },
    {
      "cell_type": "markdown",
      "metadata": {
        "id": "nYSqe0dDkbzh"
      },
      "source": [
        "## Path of our current directory"
      ]
    },
    {
      "cell_type": "code",
      "metadata": {
        "id": "iA8vG-KTrx1j",
        "colab": {
          "base_uri": "https://localhost:8080/"
        },
        "outputId": "f47648e5-d68c-4d7d-af4d-b6fc2004ec72"
      },
      "source": [
        "!pwd"
      ],
      "execution_count": null,
      "outputs": [
        {
          "output_type": "stream",
          "text": [
            "/content\n"
          ],
          "name": "stdout"
        }
      ]
    },
    {
      "cell_type": "code",
      "metadata": {
        "id": "NzN_rlb4i6XX"
      },
      "source": [
        ""
      ],
      "execution_count": null,
      "outputs": []
    }
  ]
}